{
 "metadata": {
  "name": "NumPy and plotting"
 },
 "nbformat": 3,
 "nbformat_minor": 0,
 "worksheets": [
  {
   "cells": [
    {
     "cell_type": "heading",
     "level": 1,
     "metadata": {},
     "source": [
      "Manipulating data with NumPy"
     ]
    },
    {
     "cell_type": "markdown",
     "metadata": {},
     "source": [
      "Presented by Karen Cranston, based on materials by Katy Huff and Matthew Terry. \n",
      "\n",
      "The NumPy library includes (among other things) ways of storing and manipulating data that are more efficient than standard Python arrays. Using NumPy with numerical data will be much faster than using Python lists or tuples.\n",
      "\n",
      "We will start by importing the library and creating a regular Python list and a numpy array from that list."
     ]
    },
    {
     "cell_type": "code",
     "collapsed": false,
     "input": [
      "import numpy\n",
      "\n",
      "x = [1, 2, 3, 4, 5, 6 ]\n",
      "np_arr = numpy.array(x)"
     ],
     "language": "python",
     "metadata": {},
     "outputs": [],
     "prompt_number": 1
    },
    {
     "cell_type": "markdown",
     "metadata": {},
     "source": [
      "Let's look at difference between x (python list) and arr (numpy array)"
     ]
    },
    {
     "cell_type": "code",
     "collapsed": false,
     "input": [
      "x"
     ],
     "language": "python",
     "metadata": {},
     "outputs": [
      {
       "output_type": "pyout",
       "prompt_number": 2,
       "text": [
        "[1, 2, 3, 4, 5, 6]"
       ]
      }
     ],
     "prompt_number": 2
    },
    {
     "cell_type": "code",
     "collapsed": false,
     "input": [
      "np_arr"
     ],
     "language": "python",
     "metadata": {},
     "outputs": [
      {
       "output_type": "pyout",
       "prompt_number": 3,
       "text": [
        "array([1, 2, 3, 4, 5, 6])"
       ]
      }
     ],
     "prompt_number": 3
    },
    {
     "cell_type": "code",
     "collapsed": false,
     "input": [
      "np_arr.ndim"
     ],
     "language": "python",
     "metadata": {},
     "outputs": [
      {
       "output_type": "pyout",
       "prompt_number": 4,
       "text": [
        "1"
       ]
      }
     ],
     "prompt_number": 4
    },
    {
     "cell_type": "code",
     "collapsed": false,
     "input": [
      "np_arr.shape"
     ],
     "language": "python",
     "metadata": {},
     "outputs": [
      {
       "output_type": "pyout",
       "prompt_number": 14,
       "text": [
        "(6,)"
       ]
      }
     ],
     "prompt_number": 14
    },
    {
     "cell_type": "markdown",
     "metadata": {},
     "source": [
      "We can compare the two data structures. Operations on numpy arrays operate element by element. Explain this result?"
     ]
    },
    {
     "cell_type": "code",
     "collapsed": false,
     "input": [
      "x == np_arr"
     ],
     "language": "python",
     "metadata": {},
     "outputs": [
      {
       "output_type": "pyout",
       "prompt_number": 5,
       "text": [
        "array([ True,  True,  True,  True,  True,  True], dtype=bool)"
       ]
      }
     ],
     "prompt_number": 5
    },
    {
     "cell_type": "markdown",
     "metadata": {},
     "source": [
      "Now, let's make a 2D array"
     ]
    },
    {
     "cell_type": "code",
     "collapsed": false,
     "input": [
      "x = [ [1, 2], [3, 4], [5, 6] ]\n",
      "np_arr = numpy.array(x)"
     ],
     "language": "python",
     "metadata": {},
     "outputs": [],
     "prompt_number": 6
    },
    {
     "cell_type": "code",
     "collapsed": false,
     "input": [
      "np_arr.shape"
     ],
     "language": "python",
     "metadata": {},
     "outputs": [
      {
       "output_type": "pyout",
       "prompt_number": 3,
       "text": [
        "(3, 2)"
       ]
      }
     ],
     "prompt_number": 3
    },
    {
     "cell_type": "markdown",
     "metadata": {},
     "source": [
      "We can slice the matrix to get the second column. Note that slices are a view of the same data. What happens when we change an element of the slice?"
     ]
    },
    {
     "cell_type": "code",
     "collapsed": false,
     "input": [
      "array_slice = np_arr[:,1]\n",
      "array_slice"
     ],
     "language": "python",
     "metadata": {},
     "outputs": [
      {
       "output_type": "pyout",
       "prompt_number": 25,
       "text": [
        "array([2, 4, 7])"
       ]
      }
     ],
     "prompt_number": 25
    },
    {
     "cell_type": "code",
     "collapsed": false,
     "input": [
      "array_slice[2]=7"
     ],
     "language": "python",
     "metadata": {},
     "outputs": [],
     "prompt_number": 8
    },
    {
     "cell_type": "code",
     "collapsed": false,
     "input": [
      "np_arr"
     ],
     "language": "python",
     "metadata": {},
     "outputs": [
      {
       "output_type": "pyout",
       "prompt_number": 9,
       "text": [
        "array([[1, 2],\n",
        "       [3, 4],\n",
        "       [5, 7]])"
       ]
      }
     ],
     "prompt_number": 9
    },
    {
     "cell_type": "markdown",
     "metadata": {},
     "source": [
      "Differences between shallow and deep copies"
     ]
    },
    {
     "cell_type": "code",
     "collapsed": false,
     "input": [
      "arr_copy = np_arr.copy()\n",
      "arr_copy[0,0]=3\n",
      "arr_copy"
     ],
     "language": "python",
     "metadata": {},
     "outputs": [
      {
       "output_type": "pyout",
       "prompt_number": 41,
       "text": [
        "array([[3, 2],\n",
        "       [3, 4],\n",
        "       [5, 7]])"
       ]
      }
     ],
     "prompt_number": 41
    },
    {
     "cell_type": "code",
     "collapsed": false,
     "input": [
      "np_arr"
     ],
     "language": "python",
     "metadata": {},
     "outputs": [
      {
       "output_type": "pyout",
       "prompt_number": 43,
       "text": [
        "array([[1, 2],\n",
        "       [3, 4],\n",
        "       [5, 7]])"
       ]
      }
     ],
     "prompt_number": 43
    },
    {
     "cell_type": "markdown",
     "metadata": {},
     "source": [
      "Operating on Python lists and numpy arrays is very different.  "
     ]
    },
    {
     "cell_type": "code",
     "collapsed": false,
     "input": [
      "x*2"
     ],
     "language": "python",
     "metadata": {},
     "outputs": [
      {
       "output_type": "pyout",
       "prompt_number": 10,
       "text": [
        "[[1, 2], [3, 4], [5, 6], [1, 2], [3, 4], [5, 6]]"
       ]
      }
     ],
     "prompt_number": 10
    },
    {
     "cell_type": "code",
     "collapsed": false,
     "input": [
      "np_arr * 3"
     ],
     "language": "python",
     "metadata": {},
     "outputs": [
      {
       "output_type": "pyout",
       "prompt_number": 11,
       "text": [
        "array([[ 3,  6],\n",
        "       [ 9, 12],\n",
        "       [15, 21]])"
       ]
      }
     ],
     "prompt_number": 11
    },
    {
     "cell_type": "markdown",
     "metadata": {},
     "source": [
      "With numpy arrays, operations are element by element. The multiplication operation multiplied each element individually. Compare to the Python list, where multiplication copied the entire array as a single unit. "
     ]
    },
    {
     "cell_type": "code",
     "collapsed": false,
     "input": [
      "np_arr + np_arr"
     ],
     "language": "python",
     "metadata": {},
     "outputs": [
      {
       "output_type": "pyout",
       "prompt_number": 12,
       "text": [
        "array([[ 2,  4],\n",
        "       [ 6,  8],\n",
        "       [10, 14]])"
       ]
      }
     ],
     "prompt_number": 12
    },
    {
     "cell_type": "markdown",
     "metadata": {},
     "source": [
      "T = transpose; dot = dot product"
     ]
    },
    {
     "cell_type": "code",
     "collapsed": false,
     "input": [
      "np_arr.T.dot(np_arr)"
     ],
     "language": "python",
     "metadata": {},
     "outputs": [
      {
       "output_type": "pyout",
       "prompt_number": 34,
       "text": [
        "array([[35, 49],\n",
        "       [49, 69]])"
       ]
      }
     ],
     "prompt_number": 34
    },
    {
     "cell_type": "markdown",
     "metadata": {},
     "source": [
      "Numpy contains all of your basic statistical functions. "
     ]
    },
    {
     "cell_type": "code",
     "collapsed": false,
     "input": [
      "average(np_arr)"
     ],
     "language": "python",
     "metadata": {},
     "outputs": [
      {
       "output_type": "pyout",
       "prompt_number": 37,
       "text": [
        "3.6666666666666665"
       ]
      }
     ],
     "prompt_number": 37
    },
    {
     "cell_type": "markdown",
     "metadata": {},
     "source": [
      "Average of what? (default is whole array flattened into single list). Find the average of the first column."
     ]
    },
    {
     "cell_type": "code",
     "collapsed": false,
     "input": [
      "average(np_arr[:,0])"
     ],
     "language": "python",
     "metadata": {},
     "outputs": [
      {
       "output_type": "pyout",
       "prompt_number": 36,
       "text": [
        "3.0"
       ]
      }
     ],
     "prompt_number": 36
    },
    {
     "cell_type": "code",
     "collapsed": false,
     "input": [
      "cov(np_arr)"
     ],
     "language": "python",
     "metadata": {},
     "outputs": [
      {
       "output_type": "pyout",
       "prompt_number": 38,
       "text": [
        "array([[ 0.5,  0.5,  1. ],\n",
        "       [ 0.5,  0.5,  1. ],\n",
        "       [ 1. ,  1. ,  2. ]])"
       ]
      }
     ],
     "prompt_number": 38
    },
    {
     "cell_type": "markdown",
     "metadata": {},
     "source": [
      "We can use NumPy functions to read data from a file into an array"
     ]
    },
    {
     "cell_type": "code",
     "collapsed": false,
     "input": [
      "%%file example-data.txt\n",
      "0,0\n",
      "1,2\n",
      "2,4\n",
      "3,8\n",
      "4,16\n",
      "5,32\n",
      "6,64\n"
     ],
     "language": "python",
     "metadata": {},
     "outputs": [
      {
       "output_type": "stream",
       "stream": "stdout",
       "text": [
        "Writing example-data.txt\n"
       ]
      }
     ],
     "prompt_number": 44
    },
    {
     "cell_type": "code",
     "collapsed": false,
     "input": [
      "data = numpy.loadtxt('example-data.txt', delimiter=',')\n",
      "print data"
     ],
     "language": "python",
     "metadata": {},
     "outputs": [
      {
       "output_type": "stream",
       "stream": "stdout",
       "text": [
        "[[  0.   0.]\n",
        " [  1.   2.]\n",
        " [  2.   4.]\n",
        " [  3.   8.]\n",
        " [  4.  16.]\n",
        " [  5.  32.]\n",
        " [  6.  64.]]\n"
       ]
      }
     ],
     "prompt_number": 45
    },
    {
     "cell_type": "code",
     "collapsed": false,
     "input": [
      "x = [ 0, 1, 2, 3, 4, 5, 6 ]\n",
      "y = [ 0, 2, 4, 8, 16, 32, 64 ]\n",
      "plot(x, y)"
     ],
     "language": "python",
     "metadata": {},
     "outputs": [
      {
       "output_type": "pyout",
       "prompt_number": 46,
       "text": [
        "[<matplotlib.lines.Line2D at 0x105fd3090>]"
       ]
      },
      {
       "output_type": "display_data",
       "png": "[encoded data removed]"
      }
     ],
     "prompt_number": 46
    },
    {
     "cell_type": "code",
     "collapsed": false,
     "input": [
      "plot(x, y, 'r--', label='my favorite line')\n",
      "legend()"
     ],
     "language": "python",
     "metadata": {},
     "outputs": [
      {
       "output_type": "pyout",
       "prompt_number": 31,
       "text": [
        "<matplotlib.legend.Legend at 0x108568510>"
       ]
      },
      {
       "output_type": "display_data",
       "png": "[encoded data removed]",
       "text": [
        "<matplotlib.figure.Figure at 0x108568410>"
       ]
      }
     ],
     "prompt_number": 31
    },
    {
     "cell_type": "code",
     "collapsed": false,
     "input": [
      "plot(x, y, 'r-')\n",
      "axis(xmin=-10, xmax = 8, ymin=-10)"
     ],
     "language": "python",
     "metadata": {},
     "outputs": [
      {
       "output_type": "pyout",
       "prompt_number": 34,
       "text": [
        "(-10, 8, -10, 70.0)"
       ]
      },
      {
       "output_type": "display_data",
       "png": "[encoded data removed]",
       "text": [
        "<matplotlib.figure.Figure at 0x108647390>"
       ]
      }
     ],
     "prompt_number": 34
    },
    {
     "cell_type": "code",
     "collapsed": false,
     "input": [
      "plot(x, y, 'r-')\n",
      "axis(xmin=-10, xmax = 8, ymin=-10)\n",
      "xlabel('This is my X axis')\n",
      "ylabel('This is my Y axis')\n",
      "title('foo')\n",
      "savefig('/tmp/figure.pdf')"
     ],
     "language": "python",
     "metadata": {},
     "outputs": [
      {
       "output_type": "display_data",
       "png": "[encoded data removed]",
       "text": [
        "<matplotlib.figure.Figure at 0x1086022d0>"
       ]
      }
     ],
     "prompt_number": 36
    },
    {
     "cell_type": "code",
     "collapsed": false,
     "input": [
      "plot(x, y, 'r-')\n",
      "axis(xmin=-10, xmax = 8, ymin=-10)\n",
      "xlabel('This is my X axis')\n",
      "ylabel('This is my Y axis')\n",
      "title('foo')\n",
      "savefig('/tmp/figure.png')"
     ],
     "language": "python",
     "metadata": {},
     "outputs": [
      {
       "output_type": "display_data",
       "png": "[encoded data removed]",
       "text": [
        "<matplotlib.figure.Figure at 0x10867cd90>"
       ]
      }
     ],
     "prompt_number": 37
    },
    {
     "cell_type": "code",
     "collapsed": false,
     "input": [
      "import csv\n",
      "def read_birdlist2(filename):\n",
      "    birdlist = []\n",
      "\n",
      "    fp = file(filename, 'rb')\n",
      "    reader = csv.reader(fp)\n",
      "\n",
      "    n = 0\n",
      "    for bird, state, day in reader:\n",
      "        birdlist.append((bird, state, day))\n",
      "        \n",
      "    return birdlist"
     ],
     "language": "python",
     "metadata": {},
     "outputs": [],
     "prompt_number": 51
    },
    {
     "cell_type": "code",
     "collapsed": false,
     "input": [
      "def make_birddict2(birdlist2):\n",
      "    # first, get the unique set of birds\n",
      "    bird_types = set()\n",
      "    for bird, state, day in birdlist2:\n",
      "        bird_types.add(bird)\n",
      "    \n",
      "    # then, set the count for each bird to 0\n",
      "    d = {}\n",
      "    for bird in bird_types:\n",
      "        d[bird] = 0\n",
      "        \n",
      "    # now, go through all of the entries in birdlist2 and, for each one, increment the count in the dictionary\n",
      "    for bird, state, day in birdlist2:\n",
      "        d[bird] = d[bird] + 1\n",
      "\n",
      "    return d"
     ],
     "language": "python",
     "metadata": {},
     "outputs": [],
     "prompt_number": 52
    },
    {
     "cell_type": "code",
     "collapsed": false,
     "input": [
      "birdlist = read_birdlist2('long-birds.csv')\n",
      "bird_dict = make_birddict2(birdlist)"
     ],
     "language": "python",
     "metadata": {},
     "outputs": [],
     "prompt_number": 53
    },
    {
     "cell_type": "code",
     "collapsed": false,
     "input": [
      "labels=[]\n",
      "counts=[]\n",
      "for bird in bird_dict:\n",
      "    print bird,\", \",bird_dict[bird]\n",
      "    labels.append(bird)\n",
      "    counts.append(bird_dict[bird])"
     ],
     "language": "python",
     "metadata": {},
     "outputs": [
      {
       "output_type": "stream",
       "stream": "stdout",
       "text": [
        "bald eagle ,  920\n",
        "shoebill ,  995\n",
        "flamingo ,  1051\n",
        "heron ,  964\n",
        "vulture ,  985\n",
        "albatross ,  973\n",
        "stork ,  1086\n",
        "little grebe ,  1042\n",
        "long-tailed duck ,  1008\n",
        "common teal ,  976\n"
       ]
      }
     ],
     "prompt_number": 58
    },
    {
     "cell_type": "code",
     "collapsed": false,
     "input": [
      "print labels"
     ],
     "language": "python",
     "metadata": {},
     "outputs": [
      {
       "output_type": "stream",
       "stream": "stdout",
       "text": [
        "['bald eagle', 'shoebill', 'flamingo', 'heron', 'vulture', 'albatross', 'stork', 'little grebe', 'long-tailed duck', 'common teal']\n"
       ]
      }
     ],
     "prompt_number": 59
    },
    {
     "cell_type": "code",
     "collapsed": false,
     "input": [
      "print counts"
     ],
     "language": "python",
     "metadata": {},
     "outputs": [
      {
       "output_type": "stream",
       "stream": "stdout",
       "text": [
        "[920, 995, 1051, 964, 985, 973, 1086, 1042, 1008, 976]\n"
       ]
      }
     ],
     "prompt_number": 60
    },
    {
     "cell_type": "code",
     "collapsed": false,
     "input": [
      "xlocations = numpy.array(range(len(counts)))\n",
      "width = 0.8\n",
      "bar(xlocations, counts, width=width)\n",
      "xticks(np.arange(len(counts)) + width/2,labels,rotation='vertical')"
     ],
     "language": "python",
     "metadata": {},
     "outputs": [
      {
       "output_type": "pyout",
       "prompt_number": 84,
       "text": [
        "([<matplotlib.axis.XTick at 0x107fabd10>,\n",
        "  <matplotlib.axis.XTick at 0x107b25a50>,\n",
        "  <matplotlib.axis.XTick at 0x1067481d0>,\n",
        "  <matplotlib.axis.XTick at 0x107fad910>,\n",
        "  <matplotlib.axis.XTick at 0x107ba4e10>,\n",
        "  <matplotlib.axis.XTick at 0x10674c810>,\n",
        "  <matplotlib.axis.XTick at 0x107b30850>,\n",
        "  <matplotlib.axis.XTick at 0x107b302d0>,\n",
        "  <matplotlib.axis.XTick at 0x107b9f6d0>,\n",
        "  <matplotlib.axis.XTick at 0x107bdae90>],\n",
        " <a list of 10 Text xticklabel objects>)"
       ]
      },
      {
       "output_type": "display_data",
       "png": "[encoded data removed]"
      }
     ],
     "prompt_number": 84
    },
    {
     "cell_type": "code",
     "collapsed": false,
     "input": [
      "from mpl_toolkits.mplot3d import Axes3D\n",
      "import matplotlib.pyplot as plt\n",
      "import numpy as np\n",
      "\n",
      "bignum = 100\n",
      "mat = np.random.random((bignum, bignum))\n",
      "X, Y = np.mgrid[:bignum, :bignum]\n",
      "\n",
      "fig = plt.figure()\n",
      "ax = fig.add_subplot(1,1,1, projection='3d')\n",
      "surf = ax.plot_surface(X,Y,mat)\n",
      "plt.show()\n"
     ],
     "language": "python",
     "metadata": {},
     "outputs": [
      {
       "output_type": "display_data",
       "png": "[encoded data removed]"
      }
     ],
     "prompt_number": 85
    },
    {
     "cell_type": "code",
     "collapsed": false,
     "input": [],
     "language": "python",
     "metadata": {},
     "outputs": []
    }
   ],
   "metadata": {}
  }
 ]
}